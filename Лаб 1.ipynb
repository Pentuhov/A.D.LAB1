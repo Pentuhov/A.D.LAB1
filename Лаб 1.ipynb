{
 "cells": [
  {
   "cell_type": "code",
   "execution_count": 3,
   "id": "a2c8c214",
   "metadata": {},
   "outputs": [],
   "source": [
    "import pandas as pd\n",
    "import numpy as np"
   ]
  },
  {
   "cell_type": "markdown",
   "id": "7cba59cd",
   "metadata": {},
   "source": [
    "# Задание 1. Создать объект Series из списка чисел [1, 2, 3] с метками [a, b, c] и вывести его на печать."
   ]
  },
  {
   "cell_type": "code",
   "execution_count": 2,
   "id": "9d4490d5",
   "metadata": {},
   "outputs": [
    {
     "name": "stdout",
     "output_type": "stream",
     "text": [
      "a    1\n",
      "b    2\n",
      "c    3\n",
      "dtype: int64\n"
     ]
    }
   ],
   "source": [
    "s = pd.Series([1,2,3], index=['a', 'b', 'c'])\n",
    "print(s)"
   ]
  },
  {
   "cell_type": "markdown",
   "id": "23e91140",
   "metadata": {},
   "source": [
    "# Задание 2. Создать объект Series из словаря {'a': 1, 'b': 2, 'c': 3} и вывести его на печать."
   ]
  },
  {
   "cell_type": "code",
   "execution_count": 3,
   "id": "5701815e",
   "metadata": {},
   "outputs": [
    {
     "name": "stdout",
     "output_type": "stream",
     "text": [
      "a    1\n",
      "b    2\n",
      "c    3\n",
      "dtype: int64\n"
     ]
    }
   ],
   "source": [
    "my_list = {'a': 1, 'b': 2, 'c': 3}\n",
    "s = pd.Series(my_list)\n",
    "print(s)"
   ]
  },
  {
   "cell_type": "markdown",
   "id": "46eaafc1",
   "metadata": {},
   "source": [
    "# Задание 3. Создать объект массива NumPy arr = [1, 2, 3, 4, 5] , затем из него создать объект Series и вывести его на печать."
   ]
  },
  {
   "cell_type": "code",
   "execution_count": 4,
   "id": "d6cb7e08",
   "metadata": {},
   "outputs": [
    {
     "name": "stdout",
     "output_type": "stream",
     "text": [
      "0    1\n",
      "1    2\n",
      "2    3\n",
      "3    4\n",
      "4    5\n",
      "dtype: int32\n"
     ]
    }
   ],
   "source": [
    "my_array = np.array([1, 2, 3, 4, 5])\n",
    "s = pd.Series(my_array)\n",
    "print(s)"
   ]
  },
  {
   "cell_type": "markdown",
   "id": "bb69321f",
   "metadata": {},
   "source": [
    "# Задание 4. Создать объект Series с заполнением по умолчанию значением 0 и метками [a, b, c] и вывести его на печать."
   ]
  },
  {
   "cell_type": "code",
   "execution_count": 5,
   "id": "dbfbc3cc",
   "metadata": {},
   "outputs": [
    {
     "name": "stdout",
     "output_type": "stream",
     "text": [
      "a    0\n",
      "b    0\n",
      "c    0\n",
      "dtype: int64\n"
     ]
    }
   ],
   "source": [
    "s = pd.Series(0, index=['a', 'b', 'c'])\n",
    "print(s)"
   ]
  },
  {
   "cell_type": "markdown",
   "id": "0c74f6e7",
   "metadata": {},
   "source": [
    "# Задание 5. В первой строке ввода с клавиатуры поступает строка с символами разлепленными пробелом, во второй строка с целыми числами. На их основе создать список кортежей и из него объект Series, вывести его на печать."
   ]
  },
  {
   "cell_type": "code",
   "execution_count": 7,
   "id": "4d41e5f2",
   "metadata": {},
   "outputs": [
    {
     "name": "stdout",
     "output_type": "stream",
     "text": [
      "Введите символы, разделенные пробелом a b c d i f\n",
      "Введите целые числа 2 5 7 9 0 1\n",
      "0    (a, b, c, d, i, f)\n",
      "1    (2, 5, 7, 9, 0, 1)\n",
      "dtype: object\n"
     ]
    }
   ],
   "source": [
    "str1 = input(\"Введите символы, разделенные пробелом \")\n",
    "str2 = input(\"Введите целые числа \")\n",
    "s1 = tuple(str(item) for item in str1.split(' '))\n",
    "s2 = tuple(int(item) for item in str2.split(' '))\n",
    "my_list = [s1, s2]\n",
    "s = pd.Series(my_list)\n",
    "print(s)"
   ]
  },
  {
   "cell_type": "markdown",
   "id": "6564524a",
   "metadata": {},
   "source": [
    "# Задание 6. На вход поступает строка слов, разделенных пробелом. Создать на ее основе объект Series с метками 0, 1, 2,... Вывести его на печать."
   ]
  },
  {
   "cell_type": "code",
   "execution_count": 8,
   "id": "4b02b196",
   "metadata": {},
   "outputs": [
    {
     "name": "stdout",
     "output_type": "stream",
     "text": [
      "Введите слова, разделенные пробелом Снова седая ночь\n",
      "0    Снова\n",
      "1    седая\n",
      "2     ночь\n",
      "dtype: object\n"
     ]
    }
   ],
   "source": [
    "str1 = input(\"Введите слова, разделенные пробелом \")\n",
    "s1 = tuple(str(item) for item in str1.split(' '))\n",
    "s = pd.Series(s1)\n",
    "print(s)"
   ]
  },
  {
   "cell_type": "markdown",
   "id": "74aaf047",
   "metadata": {},
   "source": [
    "# Задание 7. На вход поступает последовательность из чисел 0 и 1, разделенных пробелом. Создать на ее основе объект Series, содержащий булевы значения True (1) , False (0) c метками [a, b, c, d,...]"
   ]
  },
  {
   "cell_type": "code",
   "execution_count": 4,
   "id": "d651ca82",
   "metadata": {},
   "outputs": [
    {
     "name": "stdout",
     "output_type": "stream",
     "text": [
      "1 2 3 4 0\n",
      "a     True\n",
      "b        2\n",
      "c        3\n",
      "d        4\n",
      "e    False\n",
      "dtype: object\n"
     ]
    }
   ],
   "source": [
    "s =input()\n",
    "s = s.replace(\"1\", \"True\")\n",
    "s = s.replace(\"0\", \"False\")\n",
    "st = s.split(' ')\n",
    "st = pd.Series(st)\n",
    "st = st.rename(lambda x: chr(97 + x))\n",
    "print(st)"
   ]
  },
  {
   "cell_type": "markdown",
   "id": "c6763f80",
   "metadata": {},
   "source": [
    "# Задание 8. Создать объект Series из списка дат ['2022-01-01', '2022-01-02', '2022 01-03'] , вывести его на печать. Даты в объекте Series должны быть представлены объектами datetime стандартной библиотеки языка программирования Python."
   ]
  },
  {
   "cell_type": "code",
   "execution_count": 5,
   "id": "888ffe95",
   "metadata": {},
   "outputs": [
    {
     "name": "stdout",
     "output_type": "stream",
     "text": [
      "0   2022-01-01\n",
      "1   2022-01-02\n",
      "2   2022-01-03\n",
      "dtype: datetime64[ns]\n"
     ]
    }
   ],
   "source": [
    "s = pd.Series(\n",
    "    data = pd.date_range('2022-01-01', periods=3))\n",
    "print(s)"
   ]
  },
  {
   "cell_type": "markdown",
   "id": "b3b50d40",
   "metadata": {},
   "source": [
    "# Задание 9. На вход подаются два целых числа n и m через пробел. На их основе создать объект Series с числами от n до m (включительно) с шагом 10 и метками [1, 3, 5, 7,...] . Вывести его на печать."
   ]
  },
  {
   "cell_type": "code",
   "execution_count": 6,
   "id": "6be9d476",
   "metadata": {},
   "outputs": [
    {
     "name": "stdout",
     "output_type": "stream",
     "text": [
      "Начальное число: 11\n",
      "Конечное число: 32\n",
      "1    11\n",
      "3    21\n",
      "5    31\n",
      "7    41\n",
      "dtype: int64\n"
     ]
    }
   ],
   "source": [
    "a = int(input(\"Начальное число: \"))\n",
    "b = int(input(\"Конечное число: \"))\n",
    "s = []\n",
    "\n",
    "sq = 0\n",
    "for i in range(10):\n",
    "    s.append(a + sq)\n",
    "    sq += 10\n",
    "    if s[i] > b:\n",
    "        break\n",
    "\n",
    "st = pd.Series(s)\n",
    "st = st.rename(lambda x: int(1 + 2*x))\n",
    "print(st)"
   ]
  },
  {
   "cell_type": "markdown",
   "id": "fd443753",
   "metadata": {},
   "source": [
    "# Приведите решение в виде исполняемого модуля на языке программирования Python."
   ]
  },
  {
   "cell_type": "markdown",
   "id": "df3fc7de",
   "metadata": {},
   "source": [
    "# Возьмем данные о погоде в разных городах в течение недели. У нас есть три города: Москва, Санкт-Петербург и Казань. Необходимо вычислить среднюю температуру для каждого города за неделю."
   ]
  },
  {
   "cell_type": "code",
   "execution_count": 7,
   "id": "768f2b2a",
   "metadata": {},
   "outputs": [
    {
     "name": "stdout",
     "output_type": "stream",
     "text": [
      "Средняя температура в Москве: 17.571428571428573\n",
      "0    15\n",
      "1    18\n",
      "2    20\n",
      "3    17\n",
      "4    16\n",
      "5    19\n",
      "6    18\n",
      "dtype: int64\n"
     ]
    }
   ],
   "source": [
    "weather_data = {'Москва': [15, 18, 20, 17, 16, 19, 18],\n",
    "                'Санкт-Петербург': [12, 14, 13, 10, 15, 11, 12],\n",
    "                'Казань': [22, 25, 23, 20, 24, 25, 23]}\n",
    "moscow_weather = pd.Series(weather_data['Москва'])\n",
    "average_temperature_moscow = moscow_weather.mean()\n",
    "print(\"Средняя температура в Москве:\", average_temperature_moscow)\n",
    "print(moscow_weather)\n"
   ]
  },
  {
   "cell_type": "code",
   "execution_count": 10,
   "id": "d25173f6",
   "metadata": {},
   "outputs": [
    {
     "name": "stdout",
     "output_type": "stream",
     "text": [
      "Средняя температура в Санкт-Петербурге: 12.428571428571429\n",
      "0    12\n",
      "1    14\n",
      "2    13\n",
      "3    10\n",
      "4    15\n",
      "5    11\n",
      "6    12\n",
      "dtype: int64\n"
     ]
    }
   ],
   "source": [
    "spb_weather = pd.Series(weather_data['Санкт-Петербург'])\n",
    "average_temperature_spb = spb_weather.mean()\n",
    "print(\"Средняя температура в Санкт-Петербурге:\", average_temperature_spb)\n",
    "print(spb_weather)"
   ]
  },
  {
   "cell_type": "code",
   "execution_count": 11,
   "id": "3011748c",
   "metadata": {},
   "outputs": [
    {
     "name": "stdout",
     "output_type": "stream",
     "text": [
      "Средняя температура в Казани: 23.142857142857142\n",
      "0    22\n",
      "1    25\n",
      "2    23\n",
      "3    20\n",
      "4    24\n",
      "5    25\n",
      "6    23\n",
      "dtype: int64\n"
     ]
    }
   ],
   "source": [
    "kazan_weather = pd.Series(weather_data['Казань'])\n",
    "average_temperature_kazan = kazan_weather.mean()\n",
    "print(\"Средняя температура в Казани:\", average_temperature_kazan)\n",
    "print(kazan_weather)"
   ]
  },
  {
   "cell_type": "code",
   "execution_count": null,
   "id": "66361f1c",
   "metadata": {},
   "outputs": [],
   "source": []
  }
 ],
 "metadata": {
  "kernelspec": {
   "display_name": "Python 3 (ipykernel)",
   "language": "python",
   "name": "python3"
  },
  "language_info": {
   "codemirror_mode": {
    "name": "ipython",
    "version": 3
   },
   "file_extension": ".py",
   "mimetype": "text/x-python",
   "name": "python",
   "nbconvert_exporter": "python",
   "pygments_lexer": "ipython3",
   "version": "3.9.7"
  }
 },
 "nbformat": 4,
 "nbformat_minor": 5
}
